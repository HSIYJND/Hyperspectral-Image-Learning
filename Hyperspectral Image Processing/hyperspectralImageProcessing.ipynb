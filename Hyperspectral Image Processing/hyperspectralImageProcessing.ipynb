{
 "cells": [
  {
   "cell_type": "code",
   "execution_count": 1,
   "metadata": {
    "collapsed": true
   },
   "outputs": [],
   "source": [
    "from spectral import *"
   ]
  },
  {
   "cell_type": "code",
   "execution_count": 9,
   "metadata": {},
   "outputs": [],
   "source": [
    "img = open_image(r'C:\\Users\\user\\Desktop\\Abhilash\\Imp\\CEERI\\NN\\Hyperspectral Image Processing\\92AV3C.lan')"
   ]
  },
  {
   "cell_type": "code",
   "execution_count": 10,
   "metadata": {},
   "outputs": [
    {
     "data": {
      "text/plain": [
       "spectral.io.bilfile.BilFile"
      ]
     },
     "execution_count": 10,
     "metadata": {},
     "output_type": "execute_result"
    }
   ],
   "source": [
    "img.__class__"
   ]
  },
  {
   "cell_type": "code",
   "execution_count": 11,
   "metadata": {},
   "outputs": [
    {
     "data": {
      "text/plain": [
       "\tData Source:   'C:\\Users\\user\\Desktop\\Abhilash\\Imp\\CEERI\\NN\\Hyperspectral Image Processing\\92AV3C.lan'\n",
       "\t# Rows:            145\n",
       "\t# Samples:         145\n",
       "\t# Bands:           220\n",
       "\tInterleave:        BIL\n",
       "\tQuantization:  16 bits\n",
       "\tData format:     int16"
      ]
     },
     "execution_count": 11,
     "metadata": {},
     "output_type": "execute_result"
    }
   ],
   "source": [
    "img"
   ]
  },
  {
   "cell_type": "code",
   "execution_count": 12,
   "metadata": {},
   "outputs": [
    {
     "data": {
      "text/plain": [
       "(145, 145, 220)"
      ]
     },
     "execution_count": 12,
     "metadata": {},
     "output_type": "execute_result"
    }
   ],
   "source": [
    "img.shape"
   ]
  },
  {
   "cell_type": "code",
   "execution_count": 13,
   "metadata": {},
   "outputs": [
    {
     "data": {
      "text/plain": [
       "array([3357, 4243, 4678, 4545, 4882, 5112, 5317, 5223, 5228, 4920, 4981,\n",
       "       4919, 4817, 4966, 5013, 4980, 4917, 4809, 4699, 4642, 4634, 4635,\n",
       "       4608, 4507, 4570, 4495, 4377, 4498, 4460, 4134, 4323, 4174, 4364,\n",
       "       4633, 4498, 4400, 4972, 5277, 5182, 3716, 5279, 5400, 5175, 5080,\n",
       "       4786, 4395, 4572, 5085, 5028, 4940, 4950, 4983, 4888, 4101, 3909,\n",
       "       3866, 3437, 2168, 2317, 2544, 3257, 3785, 4224, 4513, 4407, 4424,\n",
       "       4345, 4328, 4251, 4228, 4135, 4058, 3966, 3817, 3409, 2808, 1703,\n",
       "       1583, 1877, 1738, 2302, 2866, 3056, 3003, 3096, 3107, 3186, 3249,\n",
       "       3315, 3309, 3240, 2876, 2935, 3127, 2883, 3107, 3086, 2897, 2623,\n",
       "       2399, 1935, 1620, 1097, 1042, 1016, 1034, 1026, 1046, 1049, 1074,\n",
       "       1124, 1141, 1269, 1375, 1278, 1405, 1713, 1975, 2163, 2285, 2355,\n",
       "       2401, 2408, 2379, 2272, 2282, 2306, 2268, 2254, 2318, 2324, 2250,\n",
       "       2237, 2230, 2183, 2168, 2113, 2067, 2023, 1984, 1905, 1847, 1796,\n",
       "       1753, 1628, 1468, 1334, 1151, 1054, 1015, 1006, 1010, 1000,  998,\n",
       "        998, 1005, 1004, 1005, 1006,  996, 1009, 1008, 1019, 1039, 1042,\n",
       "       1121, 1249, 1345, 1284, 1107, 1116, 1248, 1382, 1356, 1279, 1272,\n",
       "       1329, 1389, 1404, 1413, 1419, 1409, 1411, 1400, 1377, 1363, 1365,\n",
       "       1359, 1339, 1340, 1357, 1359, 1340, 1322, 1292, 1277, 1269, 1249,\n",
       "       1243, 1240, 1238, 1228, 1217, 1192, 1175, 1166, 1139, 1131, 1126,\n",
       "       1127, 1100, 1106, 1105, 1089, 1066, 1076, 1044, 1024, 1014, 1004], dtype=int16)"
      ]
     },
     "execution_count": 13,
     "metadata": {},
     "output_type": "execute_result"
    }
   ],
   "source": [
    "img[50,100]"
   ]
  },
  {
   "cell_type": "code",
   "execution_count": 15,
   "metadata": {},
   "outputs": [
    {
     "data": {
      "text/plain": [
       "(220,)"
      ]
     },
     "execution_count": 15,
     "metadata": {},
     "output_type": "execute_result"
    }
   ],
   "source": [
    "pixel = img[50,100]\n",
    "pixel.shape"
   ]
  },
  {
   "cell_type": "code",
   "execution_count": 16,
   "metadata": {},
   "outputs": [
    {
     "data": {
      "text/plain": [
       "array([[[3172],\n",
       "        [3348],\n",
       "        [3687],\n",
       "        ..., \n",
       "        [3341],\n",
       "        [3170],\n",
       "        [3172]],\n",
       "\n",
       "       [[3344],\n",
       "        [3515],\n",
       "        [3518],\n",
       "        ..., \n",
       "        [3859],\n",
       "        [3686],\n",
       "        [3512]],\n",
       "\n",
       "       [[3512],\n",
       "        [3344],\n",
       "        [3512],\n",
       "        ..., \n",
       "        [3341],\n",
       "        [3344],\n",
       "        [3510]],\n",
       "\n",
       "       ..., \n",
       "       [[3324],\n",
       "        [2983],\n",
       "        [2988],\n",
       "        ..., \n",
       "        [3332],\n",
       "        [3498],\n",
       "        [3156]],\n",
       "\n",
       "       [[3161],\n",
       "        [3495],\n",
       "        [2988],\n",
       "        ..., \n",
       "        [3156],\n",
       "        [3159],\n",
       "        [3329]],\n",
       "\n",
       "       [[2979],\n",
       "        [2977],\n",
       "        [2814],\n",
       "        ..., \n",
       "        [3153],\n",
       "        [3155],\n",
       "        [3323]]], dtype=int16)"
      ]
     },
     "execution_count": 16,
     "metadata": {},
     "output_type": "execute_result"
    }
   ],
   "source": [
    "# a particular band\n",
    "band1 = img[:,:,0]\n",
    "band1"
   ]
  },
  {
   "cell_type": "code",
   "execution_count": 17,
   "metadata": {},
   "outputs": [
    {
     "data": {
      "text/plain": [
       "(145, 145, 1)"
      ]
     },
     "execution_count": 17,
     "metadata": {},
     "output_type": "execute_result"
    }
   ],
   "source": [
    "band1.shape"
   ]
  },
  {
   "cell_type": "code",
   "execution_count": null,
   "metadata": {
    "collapsed": true
   },
   "outputs": [],
   "source": [
    "# when the spyfile object is first created only the metadata of the image is loaded. the various functions of spyfile like shape\n",
    "#etc provide information of the data loaded"
   ]
  },
  {
   "cell_type": "code",
   "execution_count": null,
   "metadata": {
    "collapsed": true
   },
   "outputs": [],
   "source": []
  }
 ],
 "metadata": {
  "kernelspec": {
   "display_name": "Python 3",
   "language": "python",
   "name": "python3"
  },
  "language_info": {
   "codemirror_mode": {
    "name": "ipython",
    "version": 3
   },
   "file_extension": ".py",
   "mimetype": "text/x-python",
   "name": "python",
   "nbconvert_exporter": "python",
   "pygments_lexer": "ipython3",
   "version": "3.6.6"
  }
 },
 "nbformat": 4,
 "nbformat_minor": 2
}
