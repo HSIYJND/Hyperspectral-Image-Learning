{
 "cells": [
  {
   "cell_type": "code",
   "execution_count": 34,
   "metadata": {
    "collapsed": true
   },
   "outputs": [],
   "source": [
    "from spectral import *"
   ]
  },
  {
   "cell_type": "code",
   "execution_count": 97,
   "metadata": {},
   "outputs": [],
   "source": [
    "img = open_image(r'C:\\Users\\user\\Desktop\\Abhilash\\Imp\\CEERI\\ModDimensionDataSet\\flc1.lan')"
   ]
  },
  {
   "cell_type": "code",
   "execution_count": 98,
   "metadata": {},
   "outputs": [
    {
     "data": {
      "text/plain": [
       "spectral.io.bilfile.BilFile"
      ]
     },
     "execution_count": 98,
     "metadata": {},
     "output_type": "execute_result"
    }
   ],
   "source": [
    "img.__class__"
   ]
  },
  {
   "cell_type": "code",
   "execution_count": 99,
   "metadata": {},
   "outputs": [
    {
     "data": {
      "text/plain": [
       "\tData Source:   'C:\\Users\\user\\Desktop\\Abhilash\\Imp\\CEERI\\ModDimensionDataSet\\flc1.lan'\n",
       "\t# Rows:            949\n",
       "\t# Samples:         220\n",
       "\t# Bands:            12\n",
       "\tInterleave:        BIL\n",
       "\tQuantization:   8 bits\n",
       "\tData format:      int8"
      ]
     },
     "execution_count": 99,
     "metadata": {},
     "output_type": "execute_result"
    }
   ],
   "source": [
    "img"
   ]
  },
  {
   "cell_type": "code",
   "execution_count": 108,
   "metadata": {},
   "outputs": [
    {
     "data": {
      "text/plain": [
       "(949, 220, 12)"
      ]
     },
     "execution_count": 108,
     "metadata": {},
     "output_type": "execute_result"
    }
   ],
   "source": [
    "img.shape"
   ]
  },
  {
   "cell_type": "code",
   "execution_count": 109,
   "metadata": {},
   "outputs": [
    {
     "data": {
      "text/plain": [
       "spectral.io.bilfile.BilFile"
      ]
     },
     "execution_count": 109,
     "metadata": {},
     "output_type": "execute_result"
    }
   ],
   "source": [
    "type(img)"
   ]
  },
  {
   "cell_type": "code",
   "execution_count": 110,
   "metadata": {},
   "outputs": [
    {
     "data": {
      "text/plain": [
       "\tData Source:   'C:\\Users\\user\\Desktop\\Abhilash\\Imp\\CEERI\\ModDimensionDataSet\\flc1.lan'\n",
       "\t# Rows:            949\n",
       "\t# Samples:         220\n",
       "\t# Bands:            12\n",
       "\tInterleave:        BIL\n",
       "\tQuantization:   8 bits\n",
       "\tData format:      int8"
      ]
     },
     "execution_count": 110,
     "metadata": {},
     "output_type": "execute_result"
    }
   ],
   "source": [
    "img"
   ]
  },
  {
   "cell_type": "code",
   "execution_count": 111,
   "metadata": {},
   "outputs": [
    {
     "data": {
      "text/plain": [
       "array([81, 78, 59, 63, 83, 88, 64, 81, 69, 81, 86, 77], dtype=int8)"
      ]
     },
     "execution_count": 111,
     "metadata": {},
     "output_type": "execute_result"
    }
   ],
   "source": [
    "img[50,100]"
   ]
  },
  {
   "cell_type": "code",
   "execution_count": 112,
   "metadata": {},
   "outputs": [
    {
     "data": {
      "text/plain": [
       "(12,)"
      ]
     },
     "execution_count": 112,
     "metadata": {},
     "output_type": "execute_result"
    }
   ],
   "source": [
    "pixel = img[50,100]\n",
    "pixel.shape"
   ]
  },
  {
   "cell_type": "code",
   "execution_count": 113,
   "metadata": {},
   "outputs": [
    {
     "data": {
      "text/plain": [
       "numpy.ndarray"
      ]
     },
     "execution_count": 113,
     "metadata": {},
     "output_type": "execute_result"
    }
   ],
   "source": [
    "# a particular band\n",
    "band1 = img[:,:,0]\n",
    "type(band1)"
   ]
  },
  {
   "cell_type": "code",
   "execution_count": 114,
   "metadata": {},
   "outputs": [
    {
     "data": {
      "text/plain": [
       "(949, 220, 1)"
      ]
     },
     "execution_count": 114,
     "metadata": {},
     "output_type": "execute_result"
    }
   ],
   "source": [
    "band1.shape"
   ]
  },
  {
   "cell_type": "code",
   "execution_count": 115,
   "metadata": {
    "collapsed": true
   },
   "outputs": [],
   "source": [
    "# when the spyfile object is first created only the metadata of the image is loaded. the various functions/subscript \n",
    "# operator of spyfile like shape\n",
    "# etc provide information of the data loaded"
   ]
  },
  {
   "cell_type": "code",
   "execution_count": 116,
   "metadata": {},
   "outputs": [
    {
     "name": "stderr",
     "output_type": "stream",
     "text": [
      "C:\\Users\\user\\Anaconda3\\lib\\site-packages\\ipykernel_launcher.py:3: DeprecationWarning: tostring() is deprecated. Use tobytes() instead.\n",
      "  This is separate from the ipykernel package so we can avoid doing imports until\n"
     ]
    }
   ],
   "source": [
    "#loading the entire image into memory\n",
    "\n",
    "imgA = img.load()"
   ]
  },
  {
   "cell_type": "code",
   "execution_count": 117,
   "metadata": {},
   "outputs": [
    {
     "name": "stdout",
     "output_type": "stream",
     "text": [
      "(949, 220, 12)\n"
     ]
    },
    {
     "data": {
      "text/plain": [
       "ImageArray([[[  72.   64.   50. ...,   51.   38.   38.]\n",
       "             [  70.   66.   51. ...,   48.   38.   38.]\n",
       "             [  71.   68.   51. ...,   45.   40.   39.]\n",
       "             ..., \n",
       "             [  63.   57.   46. ...,   59.  105.   81.]\n",
       "             [  64.   59.   48. ...,   64.  102.   86.]\n",
       "             [  64.   60.   48. ...,   61.   89.   75.]]\n",
       "\n",
       "            [[  69.   62.   51. ...,   48.   42.   38.]\n",
       "             [  73.   63.   50. ...,   48.   42.   37.]\n",
       "             [  73.   65.   52. ...,   48.   42.   37.]\n",
       "             ..., \n",
       "             [  68.   59.   50. ...,   52.  100.   79.]\n",
       "             [  66.   58.   49. ...,   58.  102.   76.]\n",
       "             [  67.   62.   50. ...,   63.   99.   81.]]\n",
       "\n",
       "            [[  70.   64.   52. ...,   46.   39.   37.]\n",
       "             [  72.   64.   52. ...,   45.   38.   37.]\n",
       "             [  71.   65.   51. ...,   45.   40.   36.]\n",
       "             ..., \n",
       "             [  64.   60.   47. ...,   57.  107.   86.]\n",
       "             [  64.   60.   48. ...,   54.   95.   74.]\n",
       "             [  62.   58.   47. ...,   56.   97.   75.]]\n",
       "\n",
       "            ..., \n",
       "            [[  64.   60.   49. ...,   48.   61.   55.]\n",
       "             [  64.   61.   47. ...,   51.   63.   55.]\n",
       "             [  68.   64.   49. ...,   57.   67.   53.]\n",
       "             ..., \n",
       "             [  76.   76.   57. ...,   85.   96.   77.]\n",
       "             [  78.   75.   59. ...,   77.   82.   74.]\n",
       "             [  77.   65.   59. ...,   60.   90.   71.]]\n",
       "\n",
       "            [[  63.   62.   50. ...,   50.   68.   52.]\n",
       "             [  64.   63.   48. ...,   54.   65.   52.]\n",
       "             [  66.   63.   50. ...,   57.   64.   52.]\n",
       "             ..., \n",
       "             [  79.   77.   58. ...,   87.  102.   74.]\n",
       "             [  79.   68.   60. ...,   77.   98.   80.]\n",
       "             [  75.   66.   56. ...,   65.   88.   79.]]\n",
       "\n",
       "            [[  63.   60.   48. ...,   53.   68.   54.]\n",
       "             [  64.   59.   49. ...,   53.   65.   52.]\n",
       "             [  63.   61.   47. ...,   55.   67.   54.]\n",
       "             ..., \n",
       "             [  80.   76.   59. ...,   82.  100.   80.]\n",
       "             [  79.   77.   58. ...,   84.   91.   84.]\n",
       "             [  80.   73.   60. ...,   67.   86.   67.]]], dtype=float32)"
      ]
     },
     "execution_count": 117,
     "metadata": {},
     "output_type": "execute_result"
    }
   ],
   "source": [
    "print(imgA.shape)\n",
    "imgA"
   ]
  },
  {
   "cell_type": "code",
   "execution_count": 118,
   "metadata": {},
   "outputs": [
    {
     "data": {
      "text/plain": [
       "spectral.spectral.ImageArray"
      ]
     },
     "execution_count": 118,
     "metadata": {},
     "output_type": "execute_result"
    }
   ],
   "source": [
    "imgA.__class__"
   ]
  },
  {
   "cell_type": "code",
   "execution_count": 119,
   "metadata": {},
   "outputs": [
    {
     "data": {
      "text/plain": [
       "'\\t# Rows:            949\\n\\t# Samples:         220\\n\\t# Bands:            12\\n\\tData format:   float32'"
      ]
     },
     "execution_count": 119,
     "metadata": {},
     "output_type": "execute_result"
    }
   ],
   "source": [
    "imgA.info()"
   ]
  },
  {
   "cell_type": "code",
   "execution_count": 120,
   "metadata": {
    "collapsed": true
   },
   "outputs": [],
   "source": [
    "#image display"
   ]
  },
  {
   "cell_type": "code",
   "execution_count": 126,
   "metadata": {},
   "outputs": [],
   "source": [
    "#view1 = imshow(img)\n",
    "view1 = imshow(img)"
   ]
  },
  {
   "cell_type": "code",
   "execution_count": 127,
   "metadata": {},
   "outputs": [],
   "source": [
    "#visualizing at different bands\n",
    "view2 = imshow(img,(2,2,10))#Optional list of indices for bands to use in the red, green, and blue channels, respectively."
   ]
  },
  {
   "cell_type": "code",
   "execution_count": 123,
   "metadata": {},
   "outputs": [
    {
     "data": {
      "text/plain": [
       "ImageView object:\n",
       "  Display bands       :  [0, 6, 11]\n",
       "  Interpolation       :  <default>\n",
       "  RGB data limits     :\n",
       "    R: [-128.0, 127.0]\n",
       "    G: [-128.0, 127.0]\n",
       "    B: [-128.0, 127.0]"
      ]
     },
     "execution_count": 123,
     "metadata": {},
     "output_type": "execute_result"
    }
   ],
   "source": [
    "view1"
   ]
  },
  {
   "cell_type": "code",
   "execution_count": 124,
   "metadata": {},
   "outputs": [
    {
     "data": {
      "text/plain": [
       "ImageView object:\n",
       "  Display bands       :  (2, 2, 10)\n",
       "  Interpolation       :  <default>\n",
       "  RGB data limits     :\n",
       "    R: [-128.0, 127.0]\n",
       "    G: [-128.0, 127.0]\n",
       "    B: [-128.0, 127.0]"
      ]
     },
     "execution_count": 124,
     "metadata": {},
     "output_type": "execute_result"
    }
   ],
   "source": [
    "view2"
   ]
  },
  {
   "cell_type": "code",
   "execution_count": 128,
   "metadata": {},
   "outputs": [],
   "source": [
    "viewx = imshow(img,(0,1,2))"
   ]
  },
  {
   "cell_type": "code",
   "execution_count": 129,
   "metadata": {},
   "outputs": [],
   "source": [
    "#class map display\n",
    "\n",
    "#qt = open_image(r'C:\\Users\\user\\Desktop\\Abhilash\\Imp\\CEERI\\NN\\Hyperspectral Image Visualization\\92AV3GT.gis')"
   ]
  },
  {
   "cell_type": "code",
   "execution_count": 130,
   "metadata": {},
   "outputs": [],
   "source": [
    "#qt.__class__"
   ]
  },
  {
   "cell_type": "code",
   "execution_count": 131,
   "metadata": {},
   "outputs": [],
   "source": [
    "#qt.shape"
   ]
  },
  {
   "cell_type": "code",
   "execution_count": 132,
   "metadata": {},
   "outputs": [],
   "source": [
    "#qt #has only 1 band"
   ]
  },
  {
   "cell_type": "code",
   "execution_count": 133,
   "metadata": {
    "collapsed": true
   },
   "outputs": [],
   "source": [
    "band = img.read_band(0)"
   ]
  },
  {
   "cell_type": "code",
   "execution_count": 134,
   "metadata": {},
   "outputs": [],
   "source": [
    "vw = imshow(classes = band)"
   ]
  },
  {
   "cell_type": "code",
   "execution_count": 135,
   "metadata": {},
   "outputs": [
    {
     "data": {
      "text/plain": [
       "ImageView object:\n",
       "  Interpolation       :  <default>"
      ]
     },
     "execution_count": 135,
     "metadata": {},
     "output_type": "execute_result"
    }
   ],
   "source": [
    "imshow(classes = band)"
   ]
  },
  {
   "cell_type": "code",
   "execution_count": 136,
   "metadata": {},
   "outputs": [
    {
     "data": {
      "text/plain": [
       "(949, 220)"
      ]
     },
     "execution_count": 136,
     "metadata": {},
     "output_type": "execute_result"
    }
   ],
   "source": [
    "band.shape"
   ]
  },
  {
   "cell_type": "code",
   "execution_count": 137,
   "metadata": {
    "collapsed": true
   },
   "outputs": [],
   "source": [
    "#uses the same arguments as imshow but with the saved image file name as the first argument."
   ]
  },
  {
   "cell_type": "code",
   "execution_count": 92,
   "metadata": {},
   "outputs": [],
   "source": [
    "#displaying image bands alongwith color classes_overlayed on 1 band image\n",
    "\n",
    "viewM = imshow(qt,(0,0,0),classes = band)\n",
    "viewM.set_display_mode('overlay')\n",
    "viewM.class_alpha = 0.7"
   ]
  },
  {
   "cell_type": "code",
   "execution_count": 138,
   "metadata": {},
   "outputs": [],
   "source": [
    "#multi banded image\n",
    "\n",
    "viewM = imshow(img,(10,4,11),classes = band)\n",
    "viewM.set_display_mode('overlay')\n",
    "viewM.class_alpha = 0.2\n"
   ]
  },
  {
   "cell_type": "code",
   "execution_count": 139,
   "metadata": {},
   "outputs": [],
   "source": [
    "#increasing alpha for class colors\n",
    "\n",
    "viewM = imshow(img,(10,4,11),classes = band)\n",
    "viewM.set_display_mode('overlay')\n",
    "viewM.class_alpha = 0.6"
   ]
  },
  {
   "cell_type": "code",
   "execution_count": 140,
   "metadata": {},
   "outputs": [
    {
     "data": {
      "text/plain": [
       "<module 'matplotlib.pylab' from 'C:\\\\Users\\\\user\\\\Anaconda3\\\\lib\\\\site-packages\\\\matplotlib\\\\pylab.py'>"
      ]
     },
     "execution_count": 140,
     "metadata": {},
     "output_type": "execute_result"
    }
   ],
   "source": [
    "pylab"
   ]
  },
  {
   "cell_type": "code",
   "execution_count": 79,
   "metadata": {},
   "outputs": [],
   "source": [
    "viewM = imshow(img,(30,10,110),classes = band)\n",
    "viewM.set_display_mode('overlay')\n",
    "viewM.class_alpha = 0.6"
   ]
  }
 ],
 "metadata": {
  "kernelspec": {
   "display_name": "Python 3",
   "language": "python",
   "name": "python3"
  },
  "language_info": {
   "codemirror_mode": {
    "name": "ipython",
    "version": 3
   },
   "file_extension": ".py",
   "mimetype": "text/x-python",
   "name": "python",
   "nbconvert_exporter": "python",
   "pygments_lexer": "ipython3",
   "version": "3.6.6"
  }
 },
 "nbformat": 4,
 "nbformat_minor": 2
}
