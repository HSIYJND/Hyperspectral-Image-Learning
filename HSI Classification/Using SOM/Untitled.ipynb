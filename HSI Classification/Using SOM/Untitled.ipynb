{
 "cells": [
  {
   "cell_type": "code",
   "execution_count": 3,
   "metadata": {},
   "outputs": [
    {
     "ename": "ImportError",
     "evalue": "cannot import name 'MiniSom'",
     "output_type": "error",
     "traceback": [
      "\u001b[1;31m---------------------------------------------------------------------------\u001b[0m",
      "\u001b[1;31mImportError\u001b[0m                               Traceback (most recent call last)",
      "\u001b[1;32m<ipython-input-3-abe585f78826>\u001b[0m in \u001b[0;36m<module>\u001b[1;34m()\u001b[0m\n\u001b[0;32m      1\u001b[0m \u001b[1;32mimport\u001b[0m \u001b[0msys\u001b[0m\u001b[1;33m\u001b[0m\u001b[0m\n\u001b[0;32m      2\u001b[0m \u001b[0msys\u001b[0m\u001b[1;33m.\u001b[0m\u001b[0mpath\u001b[0m\u001b[1;33m.\u001b[0m\u001b[0minsert\u001b[0m\u001b[1;33m(\u001b[0m\u001b[1;36m0\u001b[0m\u001b[1;33m,\u001b[0m \u001b[1;34m'../'\u001b[0m\u001b[1;33m)\u001b[0m\u001b[1;33m\u001b[0m\u001b[0m\n\u001b[1;32m----> 3\u001b[1;33m \u001b[1;32mfrom\u001b[0m \u001b[0mminisom\u001b[0m \u001b[1;32mimport\u001b[0m \u001b[0mMiniSom\u001b[0m\u001b[1;33m\u001b[0m\u001b[0m\n\u001b[0m\u001b[0;32m      4\u001b[0m \u001b[1;32mimport\u001b[0m \u001b[0mnumpy\u001b[0m \u001b[1;32mas\u001b[0m \u001b[0mnp\u001b[0m\u001b[1;33m\u001b[0m\u001b[0m\n\u001b[0;32m      5\u001b[0m \u001b[1;32mimport\u001b[0m \u001b[0mos\u001b[0m\u001b[1;33m\u001b[0m\u001b[0m\n",
      "\u001b[1;31mImportError\u001b[0m: cannot import name 'MiniSom'"
     ]
    }
   ],
   "source": [
    "import sys\n",
    "sys.path.insert(0, '../')\n",
    "from minisom import MiniSom\n",
    "import numpy as np\n",
    "import os\n",
    "from spectral import *\n",
    "import scipy.io as sio\n",
    "import matplotlib.pyplot as plt\n",
    "import sys\n",
    "#from sklearn.decomposition import PCA\n",
    "#from sklearn.preprocessing import StandardScaler\n",
    "\n",
    "script_dir = os.path.dirname('__file__') #<-- absolute dir the script is in\n",
    "rel_path = \"data/92AV3C.lan\"\n",
    "abs_file_path = os.path.join(script_dir, rel_path)\n",
    "rel_path2 = \"data/Indian_pines_gt.mat\"\n",
    "abs_file_path2 = os.path.join(script_dir,rel_path2)\n",
    "\n",
    "gt = sio.loadmat(abs_file_path2)\n",
    "gtd = gt['indian_pines_gt']\n",
    "\n",
    "img = open_image(abs_file_path)\n",
    "imgX = img.load()\n",
    "imgX = imgX.reshape(145*145,220)\n",
    "raw_data = imgX\n",
    "\n",
    "map_dim = 145\n",
    "\n",
    "som = MiniSom(map_dim, map_dim, 220, sigma=1.0, learning_rate=0.5,neighborhood_function='gaussian', random_seed=10)\n",
    "#som.random_weights_init(W)\n",
    "som.pca_weights_init(raw_data)\n",
    "som.train_random(raw_data, 100)\n",
    "#qnt = som.quantization(raw_data)\n",
    "#print(qnt)\n",
    "\n",
    "max_iter = 10000\n",
    "q_error_pca_init = []\n",
    "iter_x = []\n",
    "for i in range(max_iter):\n",
    "    percent = 100*(i+1)/max_iter\n",
    "    rand_i = np.random.randint(len(raw_data))\n",
    "    som.update(raw_data[rand_i], som.winner(raw_data[rand_i]), i, max_iter)\n",
    "    if (i+1) % 100 == 0:\n",
    "        error = som.quantization_error(raw_data)\n",
    "        q_error_pca_init.append(error)\n",
    "        iter_x.append(i)\n",
    "        sys.stdout.write(f'\\riteration={i:2d} status={percent:0.2f}% error={error}')\n",
    "                \n",
    "plt.plot(iter_x, q_error_pca_init)\n",
    "plt.ylabel('quantization error')\n",
    "plt.xlabel('iteration index')"
   ]
  },
  {
   "cell_type": "code",
   "execution_count": null,
   "metadata": {},
   "outputs": [],
   "source": []
  }
 ],
 "metadata": {
  "kernelspec": {
   "display_name": "Python 3",
   "language": "python",
   "name": "python3"
  }
 },
 "nbformat": 4,
 "nbformat_minor": 2
}
